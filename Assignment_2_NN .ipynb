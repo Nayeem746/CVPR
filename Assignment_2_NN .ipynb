{
  "nbformat": 4,
  "nbformat_minor": 0,
  "metadata": {
    "colab": {
      "provenance": []
    },
    "kernelspec": {
      "name": "python3",
      "display_name": "Python 3"
    },
    "language_info": {
      "name": "python"
    }
  },
  "cells": [
    {
      "cell_type": "markdown",
      "source": [
        "# **Import Libraries**"
      ],
      "metadata": {
        "id": "r88GK16TAPJt"
      }
    },
    {
      "cell_type": "code",
      "source": [
        "import numpy as np\n",
        "import matplotlib.pyplot as plt\n",
        "from sklearn.datasets import make_classification\n",
        "from sklearn.model_selection import train_test_split\n",
        "from sklearn.preprocessing import StandardScaler, OneHotEncoder\n",
        "from sklearn.metrics import accuracy_score, classification_report, confusion_matrix,roc_curve, auc\n",
        "import seaborn as sns"
      ],
      "metadata": {
        "id": "abph26Adc9PJ"
      },
      "execution_count": null,
      "outputs": []
    },
    {
      "cell_type": "markdown",
      "source": [
        "These libraries are used for data generation, preprocessing, model evaluation, visualization, and building the neural network."
      ],
      "metadata": {
        "id": "q_6ejdV3gwRq"
      }
    },
    {
      "cell_type": "markdown",
      "source": [
        "# **Generate synthetic dataset with 5 classes**"
      ],
      "metadata": {
        "id": "8nbAB6Eg_Zut"
      }
    },
    {
      "cell_type": "code",
      "source": [
        "\n",
        "X, y = make_classification(n_samples=1000,\n",
        "                           n_features=20,\n",
        "                           n_informative=15,\n",
        "                           n_redundant=2,\n",
        "                           n_repeated=0,\n",
        "                           n_classes=5,\n",
        "                           n_clusters_per_class=1,\n",
        "                           random_state=42)"
      ],
      "metadata": {
        "id": "zewgXjdWedWR"
      },
      "execution_count": null,
      "outputs": []
    },
    {
      "cell_type": "markdown",
      "source": [
        "Create synthetic data for a classification problem with 1000 examples and 5 classes.\n",
        " Each example has 20 features, where 15 help decide the class and 2 are related to them.\n",
        " The random seed (42) makes sure we get the same data every time we run the code."
      ],
      "metadata": {
        "id": "95qsp49EhdMy"
      }
    },
    {
      "cell_type": "markdown",
      "source": [
        "# **Split the dataset into training and testing sets**"
      ],
      "metadata": {
        "id": "jH5wrSKr_eLH"
      }
    },
    {
      "cell_type": "code",
      "execution_count": null,
      "metadata": {
        "id": "Cj577vPhV0-c",
        "colab": {
          "base_uri": "https://localhost:8080/"
        },
        "outputId": "9ca459c4-eca0-41b2-ae78-95932a499705"
      },
      "outputs": [
        {
          "output_type": "stream",
          "name": "stdout",
          "text": [
            "Shape of X_train: (800, 20)\n",
            "Shape of X_test: (200, 20)\n",
            "Shape of y_train_encoded: (800, 5)\n",
            "Shape of y_test_encoded: (200, 5)\n"
          ]
        }
      ],
      "source": [
        "\n",
        "\n",
        "\n",
        "X_train, X_test, y_train, y_test = train_test_split(X, y, test_size=0.2, random_state=42)\n",
        "\n",
        "# Scale the features\n",
        "scaler = StandardScaler()\n",
        "X_train = scaler.fit_transform(X_train)\n",
        "X_test = scaler.transform(X_test)\n",
        "\n",
        "# One-hot encode the labels\n",
        "encoder = OneHotEncoder(sparse_output=False)\n",
        "y_train_encoded = encoder.fit_transform(y_train.reshape(-1, 1))\n",
        "y_test_encoded = encoder.transform(y_test.reshape(-1, 1))\n",
        "\n",
        "print(\"Shape of X_train:\", X_train.shape)\n",
        "print(\"Shape of X_test:\", X_test.shape)\n",
        "print(\"Shape of y_train_encoded:\", y_train_encoded.shape)\n",
        "print(\"Shape of y_test_encoded:\", y_test_encoded.shape)"
      ]
    },
    {
      "cell_type": "markdown",
      "source": [
        " Split the data into training and test sets (80% train, 20% test).\n",
        "Then scale the features so all values are on the same scale.\n",
        " Convert the class labels to one-hot vectors for training the neural network"
      ],
      "metadata": {
        "id": "lh4x8rS-hyLE"
      }
    },
    {
      "cell_type": "markdown",
      "source": [
        "# **NeuralNetwork**"
      ],
      "metadata": {
        "id": "yk6ftvXL_iDi"
      }
    },
    {
      "cell_type": "code",
      "source": [
        "class NeuralNetwork:\n",
        "    def __init__(self, input_size, hidden_size1, hidden_size2, hidden_size3, output_size):\n",
        "        self.input_size = input_size\n",
        "        self.hidden_size1 = hidden_size1\n",
        "        self.hidden_size2 = hidden_size2\n",
        "        self.hidden_size3 = hidden_size3\n",
        "        self.output_size = output_size\n",
        "\n",
        "        # Initialize weights and biases for each layer\n",
        "        self.W1 = np.random.randn(self.input_size, self.hidden_size1) * 0.01\n",
        "        self.b1 = np.zeros((1, self.hidden_size1))\n",
        "        self.W2 = np.random.randn(self.hidden_size1, self.hidden_size2) * 0.01\n",
        "        self.b2 = np.zeros((1, self.hidden_size2))\n",
        "        self.W3 = np.random.randn(self.hidden_size2, self.hidden_size3) * 0.01\n",
        "        self.b3 = np.zeros((1, self.hidden_size3))\n",
        "        self.W4 = np.random.randn(self.hidden_size3, self.output_size) * 0.01\n",
        "        self.b4 = np.zeros((1, self.output_size))\n",
        "\n",
        "    def sigmoid(self, z):\n",
        "        return 1 / (1 + np.exp(-z))\n",
        "\n",
        "    def softmax(self, z):\n",
        "        exp_z = np.exp(z - np.max(z, axis=1, keepdims=True))\n",
        "        return exp_z / np.sum(exp_z, axis=1, keepdims=True)\n",
        "\n",
        "    def forward(self, X):\n",
        "        # First hidden layer\n",
        "        self.z1 = np.dot(X, self.W1) + self.b1\n",
        "        self.a1 = self.sigmoid(self.z1)\n",
        "\n",
        "        # Second hidden layer\n",
        "        self.z2 = np.dot(self.a1, self.W2) + self.b2\n",
        "        self.a2 = self.sigmoid(self.z2)\n",
        "\n",
        "        # Third hidden layer\n",
        "        self.z3 = np.dot(self.a2, self.W3) + self.b3\n",
        "        self.a3 = self.sigmoid(self.z3)\n",
        "\n",
        "        # Output layer (softmax for multi-class)\n",
        "        self.z4 = np.dot(self.a3, self.W4) + self.b4\n",
        "        self.y_pred_proba = self.softmax(self.z4)\n",
        "\n",
        "        return self.y_pred_proba\n",
        "\n",
        "    def backward(self, X, y, learning_rate):\n",
        "        m = X.shape[0]\n",
        "\n",
        "        # Output layer gradients\n",
        "        dz4 = self.y_pred_proba - y\n",
        "        dW4 = (1 / m) * np.dot(self.a3.T, dz4)\n",
        "        db4 = (1 / m) * np.sum(dz4, axis=0, keepdims=True)\n",
        "\n",
        "        # Third hidden layer gradients (using derivative of sigmoid)\n",
        "        da3 = np.dot(dz4, self.W4.T)\n",
        "        dz3 = da3 * self.sigmoid(self.z3) * (1 - self.sigmoid(self.z3))\n",
        "        dW3 = (1 / m) * np.dot(self.a2.T, dz3)\n",
        "        db3 = (1 / m) * np.sum(dz3, axis=0, keepdims=True)\n",
        "\n",
        "        # Second hidden layer gradients\n",
        "        da2 = np.dot(dz3, self.W3.T)\n",
        "        dz2 = da2 * self.sigmoid(self.z2) * (1 - self.sigmoid(self.z2))\n",
        "        dW2 = (1 / m) * np.dot(self.a1.T, dz2)\n",
        "        db2 = (1 / m) * np.sum(dz2, axis=0, keepdims=True)\n",
        "\n",
        "        # First hidden layer gradients\n",
        "        da1 = np.dot(dz2, self.W2.T)\n",
        "        dz1 = da1 * self.sigmoid(self.z1) * (1 - self.sigmoid(self.z1))\n",
        "        dW1 = (1 / m) * np.dot(X.T, dz1)\n",
        "        db1 = (1 / m) * np.sum(dz1, axis=0, keepdims=True)\n",
        "\n",
        "        # Update weights and biases\n",
        "        self.W4 -= learning_rate * dW4\n",
        "        self.b4 -= learning_rate * db4\n",
        "        self.W3 -= learning_rate * dW3\n",
        "        self.b3 -= learning_rate * db3\n",
        "        self.W2 -= learning_rate * dW2\n",
        "        self.b2 -= learning_rate * db2\n",
        "        self.W1 -= learning_rate * dW1\n",
        "        self.b1 -= learning_rate * db1\n",
        "\n",
        "    def predict(self, X):\n",
        "        return np.argmax(self.forward(X), axis=1)"
      ],
      "metadata": {
        "id": "kNOXmJ9VV_qN"
      },
      "execution_count": null,
      "outputs": []
    },
    {
      "cell_type": "markdown",
      "source": [
        " This code builds a neural network with 3 hidden layers and one output layer.\n",
        "It takes in input data, processes it through layers using sigmoid activations,\n",
        " and outputs class probabilities using the softmax function.\n",
        " During training, it adjusts the weights using backpropagation to reduce prediction errors.\n",
        " The network is meant to classify data into multiple classes using one-hot encoded labels."
      ],
      "metadata": {
        "id": "PITNmeWSi7ZQ"
      }
    },
    {
      "cell_type": "markdown",
      "source": [
        "# **Training and Testing model**"
      ],
      "metadata": {
        "id": "gLTupddI_wet"
      }
    },
    {
      "cell_type": "code",
      "source": [
        "# Initialize the neural network\n",
        "input_size = X_train.shape[1]\n",
        "hidden_size1 = 64\n",
        "hidden_size2 = 32\n",
        "hidden_size3 = 16\n",
        "output_size = 5  # Number of classes\n",
        "\n",
        "model = NeuralNetwork(input_size, hidden_size1, hidden_size2, hidden_size3, output_size)\n",
        "\n",
        "# Train model\n",
        "learning_rate = 0.01\n",
        "epochs = 100\n",
        "\n",
        "for epoch in range(epochs):\n",
        "    model.forward(X_train)\n",
        "    loss = -np.sum(y_train_encoded * np.log(model.y_pred_proba + 1e-15)) / y_train_encoded.shape[0]\n",
        "    model.backward(X_train, y_train_encoded, learning_rate)\n",
        "    if epoch % 10 == 0:\n",
        "        print(f\"Epoch {epoch}: Loss = {loss:.4f}\")\n",
        "\n",
        "# Test model\n",
        "y_pred = model.predict(X_test)\n",
        "\n"
      ],
      "metadata": {
        "colab": {
          "base_uri": "https://localhost:8080/"
        },
        "id": "MOJTgrJAWDxa",
        "outputId": "861e7fe6-0d8d-4f69-8d59-aaf9aad95c16"
      },
      "execution_count": null,
      "outputs": [
        {
          "output_type": "stream",
          "name": "stdout",
          "text": [
            "Epoch 0: Loss = 1.6095\n",
            "Epoch 10: Loss = 1.6094\n",
            "Epoch 20: Loss = 1.6093\n",
            "Epoch 30: Loss = 1.6093\n",
            "Epoch 40: Loss = 1.6092\n",
            "Epoch 50: Loss = 1.6092\n",
            "Epoch 60: Loss = 1.6091\n",
            "Epoch 70: Loss = 1.6091\n",
            "Epoch 80: Loss = 1.6091\n",
            "Epoch 90: Loss = 1.6091\n"
          ]
        }
      ]
    },
    {
      "cell_type": "markdown",
      "source": [
        "This code sets up and trains the neural network with training data.\n",
        "It defines the number of neurons in each layer and creates the model.\n",
        "During training, it uses forward propagation to make predictions and backward propagation to learn.\n",
        "Every 10 epochs, it prints out the current loss to monitor training progress.\n",
        "Finally, it uses the trained model to predict classes for the test data.\n"
      ],
      "metadata": {
        "id": "3ftb-HRqjQpa"
      }
    },
    {
      "cell_type": "markdown",
      "source": [
        "# **Evaluate Performance**"
      ],
      "metadata": {
        "id": "MoJRaDzX_0e_"
      }
    },
    {
      "cell_type": "code",
      "source": [
        "\n",
        "accuracy = accuracy_score(y_test, y_pred)\n",
        "print(f\"Test Accuracy: {accuracy:.4f}\")\n",
        "print(\"Classification Report:\")\n",
        "print(classification_report(y_test, y_pred, zero_division=1))"
      ],
      "metadata": {
        "colab": {
          "base_uri": "https://localhost:8080/"
        },
        "id": "DURtmFVbWtCD",
        "outputId": "ee62a5b6-b019-4de9-a38c-06e386748620"
      },
      "execution_count": null,
      "outputs": [
        {
          "output_type": "stream",
          "name": "stdout",
          "text": [
            "Test Accuracy: 0.1700\n",
            "Classification Report:\n",
            "              precision    recall  f1-score   support\n",
            "\n",
            "           0       1.00      0.00      0.00        45\n",
            "           1       1.00      0.00      0.00        38\n",
            "           2       1.00      0.00      0.00        39\n",
            "           3       0.17      1.00      0.29        34\n",
            "           4       1.00      0.00      0.00        44\n",
            "\n",
            "    accuracy                           0.17       200\n",
            "   macro avg       0.83      0.20      0.06       200\n",
            "weighted avg       0.86      0.17      0.05       200\n",
            "\n"
          ]
        }
      ]
    },
    {
      "cell_type": "markdown",
      "source": [
        "Calculate accuracy by comparing predicted labels with actual test labels.\n",
        " Print the classification report showing precision, recall, and F1-score for each class.\n",
        "The 'zero_division=1' argument ensures no errors if any class has no predicted samples.\n"
      ],
      "metadata": {
        "id": "N6XZ6bstjjre"
      }
    },
    {
      "cell_type": "markdown",
      "source": [
        "# **Confusion Matrix**"
      ],
      "metadata": {
        "id": "bV4xL3UE_4lV"
      }
    },
    {
      "cell_type": "code",
      "source": [
        "\n",
        "plt.figure(figsize=(8, 6))\n",
        "sns.heatmap(confusion_matrix(y_test, y_pred), annot=True, cmap=\"Blues\", fmt=\"d\")\n",
        "plt.xlabel(\"Predicted\")\n",
        "plt.ylabel(\"Actual\")\n",
        "plt.title(\"Confusion Matrix\")\n",
        "plt.show()"
      ],
      "metadata": {
        "colab": {
          "base_uri": "https://localhost:8080/",
          "height": 564
        },
        "id": "h0ZF0oFiWGPn",
        "outputId": "1290a3b3-8d12-4d8c-e206-56b2feeed35a"
      },
      "execution_count": null,
      "outputs": [
        {
          "output_type": "display_data",
          "data": {
            "text/plain": [
              "<Figure size 800x600 with 2 Axes>"
            ],
            "image/png": "[encoded data removed]"
          },
          "metadata": {}
        }
      ]
    },
    {
      "cell_type": "markdown",
      "source": [
        "Plot and visualize the confusion matrix to evaluate model performance.\n",
        "The heatmap displays the actual vs predicted class counts with annotated values.\n"
      ],
      "metadata": {
        "id": "Z8cC7_nGjzHp"
      }
    },
    {
      "cell_type": "markdown",
      "source": [
        "# **Generate ROC Curves**"
      ],
      "metadata": {
        "id": "pZVIj2_P_8Sy"
      }
    },
    {
      "cell_type": "code",
      "source": [
        "\n",
        "y_pred_proba_test = model.forward(X_test)\n",
        "plt.figure(figsize=(8, 6))\n",
        "for i in range(5):\n",
        "    fpr, tpr, _ = roc_curve(y_test_encoded[:, i], y_pred_proba_test[:, i])\n",
        "    plt.plot(fpr, tpr, label=f\"Class {i} (AUC = {auc(fpr, tpr):.2f})\")\n",
        "\n",
        "plt.xlabel(\"False Positive Rate\")\n",
        "plt.ylabel(\"True Positive Rate\")\n",
        "plt.title(\"ROC Curves\")\n",
        "plt.legend()\n",
        "plt.grid(True)\n",
        "plt.show()"
      ],
      "metadata": {
        "colab": {
          "base_uri": "https://localhost:8080/",
          "height": 564
        },
        "id": "zTEglIdGc5J0",
        "outputId": "d25751e6-e0cb-4942-a18e-d7bdf24a6376"
      },
      "execution_count": null,
      "outputs": [
        {
          "output_type": "display_data",
          "data": {
            "text/plain": [
              "<Figure size 800x600 with 1 Axes>"
            ],
            "image/png": "[encoded data removed]"
          },
          "metadata": {}
        }
      ]
    },
    {
      "cell_type": "markdown",
      "source": [
        "Generate and plot ROC curves for each class to evaluate model's classification performance. The curves display the trade-off between the false positive rate and true positive rate with AUC for each class.\n"
      ],
      "metadata": {
        "id": "Ym1eta2wj-5V"
      }
    },
    {
      "cell_type": "markdown",
      "source": [
        "# **Conclusions:**"
      ],
      "metadata": {
        "id": "k2J70ZvnAB75"
      }
    },
    {
      "cell_type": "markdown",
      "source": [
        "\n",
        " The code creates a multi-layer neural network to classify a synthetic dataset with five classes. It preprocesses the data by scaling features and one-hot encoding the labels. The model is trained using backpropagation for 100 epochs with gradient descent, and its performance is evaluated using accuracy, classification reports, confusion matrix, and ROC curves. The confusion matrix shows how well the model distinguishes between classes, while the ROC curves help assess its discriminatory ability. Overall, the model provides a solid foundation for multi-class classification with further room for improvement and optimization."
      ],
      "metadata": {
        "id": "LcyozK3Xkns0"
      }
    }
  ]
}